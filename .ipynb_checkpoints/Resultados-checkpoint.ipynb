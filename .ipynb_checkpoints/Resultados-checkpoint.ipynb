{
 "cells": [
  {
   "cell_type": "markdown",
   "metadata": {},
   "source": [
    "# Resultados \n",
    "### Tipo de Red Neuronal Desarrollada:\n",
    "##### - RNN LSTM Multivariate Time Series\n",
    "\n",
    "###### Explicacion Tipo de Red Neuronal:\n",
    "RNN LSTM = Al ser un problema de series de tiempo con multiples variables, existen dos soluciones recomendadas: RNN LSTM Multivariate & Redes VAR, al haber más soluciones confiables, se opto por LSTM\n",
    "\n",
    "###### Numero de Epocas\n",
    "- NE = 1000, evitaba overfitting\n",
    "- Optimizador = Adam y LR = 0.0002, se obtuvo mejores resultados con LR = 0.0002\n",
    "- Funcion de Activacion = Sigmoide, la normalizacion esta en un rango de (0,1), Funcion Sigmoide tb esta en este rango. No usar Funciones TANH u otros, diferente numero de rango.\n",
    "- Decay = 1e-7, disminucion de Error, sin ambargo, las funciones no convergen (LOSS)"
   ]
  },
  {
   "cell_type": "markdown",
   "metadata": {},
   "source": [
    "### Caso 1\n",
    "1000 epochs, 1 Capa LSTM(12), Dense(1), Optimizador Adam , Batch = 40, Funcion Activacion = Sigmoide"
   ]
  },
  {
   "cell_type": "markdown",
   "metadata": {},
   "source": [
    "#### Accuracy (Train vs Test)\n",
    "![RESULT1A.png]()\n",
    "\n",
    "#### Loss (Train vs Test)\n",
    "![RESULT1L.png]()"
   ]
  },
  {
   "cell_type": "markdown",
   "metadata": {},
   "source": [
    "### Caso 2\n",
    "1000 epochs, 3 Capa LSTM (12,12,12,1), Dense, Learning Rate = 0.0002, Decay = 1e-7, Funcion Activacion = Sigmoide"
   ]
  },
  {
   "cell_type": "markdown",
   "metadata": {},
   "source": [
    "#### Accuracy (Train vs Test)\n",
    "![RESULT2A.png]()\n",
    "\n",
    "#### Loss (Train vs Test)\n",
    "![RESULT2L.png]()"
   ]
  },
  {
   "cell_type": "code",
   "execution_count": null,
   "metadata": {},
   "outputs": [],
   "source": []
  },
  {
   "cell_type": "markdown",
   "metadata": {},
   "source": [
    "### Caso 3\n",
    "1000 epochs, 4 Capa LSTM (50,40,30,20), Dense (1), Learning Rate = 0.0002, Funcion Activacion = Sigmoide, Batch=40"
   ]
  },
  {
   "cell_type": "markdown",
   "metadata": {},
   "source": [
    "#### Accuracy (Train vs Test)\n",
    "![RESULT3A.png]()\n",
    "\n",
    "#### Loss (Train vs Test)\n",
    "![RESULT3L.png]()"
   ]
  },
  {
   "cell_type": "markdown",
   "metadata": {},
   "source": [
    "### Caso 4\n",
    "1000 epochs, 4 Capa LSTM (50,40,30,20), Dense(1), Optimizador LR = 0.0002, Funcion Activacion = Sigmoide, Batch=40"
   ]
  },
  {
   "cell_type": "markdown",
   "metadata": {},
   "source": [
    "#### Accuracy (Train vs Test)\n",
    "![RESULT4A.png]()\n",
    "\n",
    "#### Loss (Train vs Test)\n",
    "![RESULT4L.png]()"
   ]
  },
  {
   "cell_type": "code",
   "execution_count": null,
   "metadata": {},
   "outputs": [],
   "source": []
  },
  {
   "cell_type": "code",
   "execution_count": null,
   "metadata": {},
   "outputs": [],
   "source": []
  }
 ],
 "metadata": {
  "kernelspec": {
   "display_name": "Python 3",
   "language": "python",
   "name": "python3"
  },
  "language_info": {
   "codemirror_mode": {
    "name": "ipython",
    "version": 3
   },
   "file_extension": ".py",
   "mimetype": "text/x-python",
   "name": "python",
   "nbconvert_exporter": "python",
   "pygments_lexer": "ipython3",
   "version": "3.6.9"
  }
 },
 "nbformat": 4,
 "nbformat_minor": 2
}
