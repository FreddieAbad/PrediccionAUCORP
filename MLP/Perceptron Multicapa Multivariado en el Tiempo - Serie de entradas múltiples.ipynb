{
 "cells": [
  {
   "cell_type": "markdown",
   "metadata": {},
   "source": [
    "# Perceptron Multicapa Multivariado en el Tiempo\n",
    "## Caso de Estudio: Serie de entradas múltiples \n",
    "### MLP MULTIVARIATE TIME SERIES FORECASTING - Multiple Input Series"
   ]
  },
  {
   "cell_type": "code",
   "execution_count": 3,
   "metadata": {},
   "outputs": [],
   "source": [
    "# multivariate mlp example\n",
    "from numpy import array\n",
    "from numpy import hstack\n",
    "from keras.models import Sequential\n",
    "from keras.layers import Dense\n",
    "from pandas import DataFrame, concat, read_csv\n",
    "\"\"\" \n",
    "Input:\n",
    "    figx = Pixeles x\n",
    "    figy= Pixeles y\n",
    "    historyXYZ = history del modelo a graficar\n",
    "    strEvaluacion= tipo de grafica, para definir titulo, subitutlos, etc\n",
    "    mostrar= booleano para graficar o no\n",
    "    nombreArchivo=archivo con el cual se guardara el grafico\n",
    "Output:\n",
    "    None, muestra la grafica en Matplotlib\n",
    "Grafica los datos de history de un modelo, ya sea el accucary test vs train o el loss. \n",
    "\"\"\"\n",
    "def graficaUnitaria(fix:16,fiy:8,historyXYZ,strEvaluacion,mostrar,nombreArchivo):\n",
    "    figure(figsize=(fix,fiy))\n",
    "    pyplot.grid(True)\n",
    "    if(strEvaluacion=='accuracy'):\n",
    "        pyplot.title(\"ACCURACY vs VAL_ACCURACY\")\n",
    "        pyplot.plot(historyXYZ.history['acc'], label='Train ACC')\n",
    "        pyplot.legend()\n",
    "        pyplot.plot(historyXYZ.history['val_acc'], label='Test VAL_aCC')\n",
    "        pyplot.legend()\n",
    "        #pyplot.savefig(nombreArchivo, dpi=300)\n",
    "        if(mostrar):\n",
    "            pyplot.show()\n",
    "    else:\n",
    "        pyplot.title(\"LOSS vs VAL_LOSS\")\n",
    "        pyplot.plot(historyXYZ.history['loss'], label='Train LOSS')\n",
    "        pyplot.plot(historyXYZ.history['val_loss'], label='Test VAL_LOSS')\n",
    "        pyplot.legend()\n",
    "        #pyplot.savefig(nombreArchivo, dpi=300)\n",
    "        if(mostrar):\n",
    "            pyplot.show()\n",
    "            \n",
    "\"\"\" \n",
    "Input:\n",
    "    [10,20,30,40,50...]\n",
    "Output:\n",
    "    [[10 15]\n",
    "     [20 25]\n",
    "     [30 35]] 65\n",
    "    [[20 25]\n",
    "     [30 35]\n",
    "     [40 45]] 85\n",
    "    [[30 35]\n",
    "     [40 45]\n",
    "     [50 55]] 105\n",
    "Divide una secuencia multivariada dada en varias muestras donde cada muestra \n",
    "tiene un número específico de pasos de tiempo y la salida es un solo paso de tiempo\n",
    "\"\"\"\n",
    "def split_sequences(sequences, n_steps):\n",
    "    X, y = list(), list()\n",
    "    for i in range(len(sequences)):\n",
    "        end_ix = i + n_steps\n",
    "        if end_ix > len(sequences):\n",
    "            break\n",
    "        seq_x, seq_y = sequences[i:end_ix, :-1], sequences[end_ix-1, -1]\n",
    "        X.append(seq_x)\n",
    "        y.append(seq_y)\n",
    "    return array(X), array(y)\n",
    "\"\"\"\n",
    "Input: \n",
    "    listoflist=Lista de Listas  \n",
    "    valoresPredecir=Lista vacia en la cual se guardara los valores\n",
    "Output: \n",
    "    valoresPredecir=Lista con los valores almacenados\n",
    "Pasa de un lista de listas a solo una lista\n",
    "\"\"\"\n",
    "def reemovNestings(valoresPredecir,listoflist): \n",
    "    for i in listoflist: \n",
    "        if type(i) == list: \n",
    "            reemovNestings(i) \n",
    "        else: \n",
    "            valoresPredecir.append(i) \n",
    "    return valoresPredecir\n"
   ]
  },
  {
   "cell_type": "code",
   "execution_count": 27,
   "metadata": {},
   "outputs": [],
   "source": [
    "dataset1 = read_csv('aucorpTrain.csv', header=0, index_col=0)\n",
    "#print(dataset1)\n",
    "dato1=dataset1.iloc[:,2]\n",
    "values1 = dato1.values\n",
    "val1=values1.tolist()\n",
    "valores1 = [] \n",
    "listVal1=reemovNestings(valores1,val1) \n",
    "#print ('The list after removing nesting: ', listVal1) \n",
    "\n",
    "dato2=dataset1.iloc[:,3]\n",
    "values2 = dato2.values\n",
    "val2=values2.tolist()\n",
    "valores2 = [] \n",
    "listVal2=reemovNestings(valores2,val2) \n",
    "#print ('The list after removing nesting: ', listVal2) \n",
    "\n",
    "dato3=dataset1.iloc[:,4]\n",
    "values3 = dato3.values\n",
    "val3=values3.tolist()\n",
    "valores3 = [] \n",
    "listVal3=reemovNestings(valores3,val3) \n",
    "#print ('The list after removing nesting: ', listVal3) \n",
    "\n",
    "dato4=dataset1.iloc[:,5]\n",
    "values4 = dato4.values\n",
    "val4=values4.tolist()\n",
    "valores4 = [] \n",
    "listVal4=reemovNestings(valores4,val4) \n",
    "#print ('The list after removing nesting: ', listVal4) \n",
    "\n",
    "dato5=dataset1.iloc[:,6]\n",
    "values5 = dato5.values\n",
    "val5=values5.tolist()\n",
    "valores5 = [] \n",
    "listVal5=reemovNestings(valores5,val5) \n",
    "#print ('The list after removing nesting: ', listVal5) \n",
    "\n",
    "dato6=dataset1.iloc[:,7]\n",
    "values6 = dato6.values\n",
    "val6=values6.tolist()\n",
    "valores6 = [] \n",
    "listVal6=reemovNestings(valores6,val6) \n",
    "#print ('The list after removing nesting: ', listVal6) \n",
    "\n",
    "dato7=dataset1.iloc[:,8]\n",
    "values7 = dato7.values\n",
    "val7=values7.tolist()\n",
    "valores7 = [] \n",
    "listVal7=reemovNestings(valores7,val7) \n",
    "#print ('The list after removing nesting: ', listVal7) \n",
    "\n",
    "dato8=dataset1.iloc[:,9]\n",
    "values8 = dato8.values\n",
    "val8=values8.tolist()\n",
    "valores8 = [] \n",
    "listVal8=reemovNestings(valores8,val8) \n",
    "#print ('The list after removing nesting: ', listVal8) \n",
    "\n",
    "dato9=dataset1.iloc[:,10]\n",
    "values9 = dato9.values\n",
    "val9=values9.tolist()\n",
    "valores9 = [] \n",
    "listVal9=reemovNestings(valores9,val9) \n",
    "#print ('The list after removing nesting: ', listVal9) \n",
    "\n",
    "dato10=dataset1.iloc[:,11]\n",
    "values10 = dato10.values\n",
    "val10=values10.tolist()\n",
    "valores10 = [] \n",
    "listVal10=reemovNestings(valores10,val10) \n",
    "#print ('The list after removing nesting: ', listVal10) \n",
    "\n",
    "dato11=dataset1.iloc[:,12]\n",
    "values11 = dato11.values\n",
    "val11=values11.tolist()\n",
    "valores11 = [] \n",
    "listVal11=reemovNestings(valores11,val11) \n",
    "#print ('The list after removing nesting: ', listVal11) \n",
    "\n",
    "dato12=dataset1.iloc[:,13]\n",
    "values12 = dato12.values\n",
    "val12=values12.tolist()\n",
    "valores12 = [] \n",
    "listVal12=reemovNestings(valores12,val12) \n",
    "#print ('The list after removing nesting: ', listVal12) \n",
    "\n",
    "datoSalida=dataset1.iloc[:,1]\n",
    "valuesSalida = datoSalida.values\n",
    "valSalida=valuesSalida.tolist()\n",
    "valoresSalida = [] \n",
    "salida=reemovNestings(valoresSalida,valSalida) \n",
    "#print ('The list after removing nesting: ', salida) \n"
   ]
  },
  {
   "cell_type": "code",
   "execution_count": 28,
   "metadata": {},
   "outputs": [],
   "source": [
    "in_seq1 = array(listVal12)\n",
    "in_seq2 = array(listVal2)\n",
    "in_seq3 = array(listVal3)\n",
    "in_seq4 = array(listVal4)\n",
    "in_seq5 = array(listVal5)\n",
    "in_seq6 = array(listVal6)\n",
    "in_seq7 = array(listVal7)\n",
    "in_seq8 = array(listVal8)\n",
    "in_seq9 = array(listVal9)\n",
    "in_seq10 = array(listVal10)\n",
    "in_seq11 = array(listVal11)\n",
    "in_seq12 = array(listVal12)\n",
    "out_seq = array(salida)\n",
    "\n",
    "in_seq1 = in_seq1.reshape((len(in_seq1), 1))\n",
    "in_seq2 = in_seq2.reshape((len(in_seq2), 1))\n",
    "in_seq3 = in_seq3.reshape((len(in_seq3), 1))\n",
    "in_seq4 = in_seq4.reshape((len(in_seq4), 1))\n",
    "in_seq5 = in_seq5.reshape((len(in_seq5), 1))\n",
    "in_seq6 = in_seq6.reshape((len(in_seq6), 1))\n",
    "in_seq7 = in_seq7.reshape((len(in_seq7), 1))\n",
    "in_seq8 = in_seq8.reshape((len(in_seq8), 1))\n",
    "in_seq9 = in_seq9.reshape((len(in_seq9), 1))\n",
    "in_seq10 = in_seq10.reshape((len(in_seq10), 1))\n",
    "in_seq11 = in_seq11.reshape((len(in_seq11), 1))\n",
    "in_seq12 = in_seq12.reshape((len(in_seq12), 1))\n",
    "out_seq = out_seq.reshape((len(out_seq), 1))\n",
    "\n",
    "dataset = hstack((in_seq1, in_seq2,in_seq3,in_seq4,in_seq5, in_seq6,in_seq7,in_seq8,in_seq9, in_seq10,in_seq11,in_seq12, out_seq))\n",
    "n_steps = 3\n",
    "X, y = split_sequences(dataset, n_steps)\n",
    "\n",
    "\n",
    "\n",
    "n_input = X.shape[1] * X.shape[2]\n",
    "#print(X)\n",
    "X = X.reshape((X.shape[0], n_input))\n",
    "#print(X.shape[0])"
   ]
  },
  {
   "cell_type": "code",
   "execution_count": 29,
   "metadata": {},
   "outputs": [
    {
     "name": "stderr",
     "output_type": "stream",
     "text": [
      "C:\\Users\\Usuario\\Anaconda3\\envs\\prediccionventas\\lib\\site-packages\\ipykernel_launcher.py:7: UserWarning: The `nb_epoch` argument in `fit` has been renamed `epochs`.\n",
      "  import sys\n"
     ]
    },
    {
     "name": "stdout",
     "output_type": "stream",
     "text": [
      "Model: \"sequential_4\"\n",
      "_________________________________________________________________\n",
      "Layer (type)                 Output Shape              Param #   \n",
      "=================================================================\n",
      "dense_7 (Dense)              (None, 100)               3700      \n",
      "_________________________________________________________________\n",
      "dense_8 (Dense)              (None, 1)                 101       \n",
      "=================================================================\n",
      "Total params: 3,801\n",
      "Trainable params: 3,801\n",
      "Non-trainable params: 0\n",
      "_________________________________________________________________\n"
     ]
    },
    {
     "data": {
      "text/plain": [
       "'\\n\\nx_input = array([[80, 85,85,85], [90, 95,95,85], [100, 105, 105,85]])\\nx_input = x_input.reshape((1, n_input))\\nyhat = model.predict(x_input, verbose=0)\\nprint(yhat)\\n'"
      ]
     },
     "execution_count": 29,
     "metadata": {},
     "output_type": "execute_result"
    }
   ],
   "source": [
    "# define model\n",
    "model = Sequential()\n",
    "model.add(Dense(100, activation='relu', input_dim=n_input))\n",
    "model.add(Dense(1))\n",
    "model.compile(optimizer='adam', loss='mse', metrics=['accuracy'])\n",
    "# fit model\n",
    "historyC1=model.fit(X, y, epochs=2000, verbose=0,validation_split=0.33,nb_epoch=200, batch_size=5)\n",
    "model.summary()\n",
    "model.save(\"modeloMultivariadoSEP1001.h5\")\n",
    "print(\"Modelo Guardado Exitosamente\")\n",
    "# demonstrate prediction\n",
    "\"\"\"\n",
    "x_input = array([[80, 85,85,85], [90, 95,95,85], [100, 105, 105,85]])\n",
    "x_input = x_input.reshape((1, n_input))\n",
    "yhat = model.predict(x_input, verbose=0)\n",
    "print(yhat)\n",
    "\"\"\""
   ]
  },
  {
   "cell_type": "code",
   "execution_count": 30,
   "metadata": {},
   "outputs": [
    {
     "name": "stdout",
     "output_type": "stream",
     "text": [
      "Populating the interactive namespace from numpy and matplotlib\n"
     ]
    },
    {
     "data": {
      "image/png": "[encoded data removed]",
      "text/plain": [
       "<Figure size 1152x576 with 1 Axes>"
      ]
     },
     "metadata": {
      "needs_background": "light"
     },
     "output_type": "display_data"
    },
    {
     "data": {
      "image/png": "[encoded data removed]",
      "text/plain": [
       "<Figure size 1152x576 with 1 Axes>"
      ]
     },
     "metadata": {
      "needs_background": "light"
     },
     "output_type": "display_data"
    }
   ],
   "source": [
    "%pylab inline\n",
    "graficaUnitaria(16,8,historyC1,'accuracy',True,'c1Acc.png')\n",
    "graficaUnitaria(16,8,historyC1,'loss',True,'c1Loss.png')"
   ]
  },
  {
   "cell_type": "code",
   "execution_count": null,
   "metadata": {},
   "outputs": [],
   "source": []
  },
  {
   "cell_type": "code",
   "execution_count": null,
   "metadata": {},
   "outputs": [],
   "source": []
  }
 ],
 "metadata": {
  "kernelspec": {
   "display_name": "Python 3",
   "language": "python",
   "name": "python3"
  },
  "language_info": {
   "codemirror_mode": {
    "name": "ipython",
    "version": 3
   },
   "file_extension": ".py",
   "mimetype": "text/x-python",
   "name": "python",
   "nbconvert_exporter": "python",
   "pygments_lexer": "ipython3",
   "version": "3.6.9"
  }
 },
 "nbformat": 4,
 "nbformat_minor": 2
}
