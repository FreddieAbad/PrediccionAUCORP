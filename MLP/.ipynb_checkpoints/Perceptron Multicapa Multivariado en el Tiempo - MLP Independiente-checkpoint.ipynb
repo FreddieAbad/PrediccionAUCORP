{
 "cells": [
  {
   "cell_type": "markdown",
   "metadata": {},
   "source": [
    "# Perceptron Multicapa Multivariado en el Tiempo\n",
    "## Caso de Estudio: Serie de entradas como MLP Independiente \n",
    "### MLP MULTIVARIATE TIME SERIES FORECASTING - MLP Independent Input Series"
   ]
  },
  {
   "cell_type": "code",
   "execution_count": null,
   "metadata": {},
   "outputs": [],
   "source": [
    "MLP separado y la salida de cada uno de estos submodelos se puede combinar antes de hacer una predicción para la secuencia de salida"
   ]
  },
  {
   "cell_type": "code",
   "execution_count": 15,
   "metadata": {},
   "outputs": [],
   "source": [
    "from numpy import array\n",
    "from numpy import hstack\n",
    "from keras.models import Model\n",
    "from keras.layers import Input\n",
    "from keras.layers import Dense\n",
    "from keras.layers.merge import concatenate\n",
    "from pandas import DataFrame, concat, read_csv"
   ]
  },
  {
   "cell_type": "code",
   "execution_count": 16,
   "metadata": {},
   "outputs": [],
   "source": [
    "def graficaUnitaria(fix:16,fiy:8,historyXYZ,strEvaluacion,mostrar,nombreArchivo):\n",
    "    figure(figsize=(fix,fiy))\n",
    "    pyplot.grid(True)\n",
    "    if(strEvaluacion=='accuracy'):\n",
    "        pyplot.title(\"ACCURACY vs VAL_ACCURACY\")\n",
    "        pyplot.plot(historyXYZ.history['acc'], label='Train ACC')\n",
    "        pyplot.legend()\n",
    "        pyplot.plot(historyXYZ.history['val_acc'], label='Test VAL_aCC')\n",
    "        pyplot.legend()\n",
    "        #pyplot.savefig(nombreArchivo, dpi=300)\n",
    "        if(mostrar):\n",
    "            pyplot.show()\n",
    "    else:\n",
    "        pyplot.title(\"LOSS vs VAL_LOSS\")\n",
    "        pyplot.plot(historyXYZ.history['loss'], label='Train LOSS')\n",
    "        pyplot.plot(historyXYZ.history['val_loss'], label='Test VAL_LOSS')\n",
    "        pyplot.legend()\n",
    "        #pyplot.savefig(nombreArchivo, dpi=300)\n",
    "        if(mostrar):\n",
    "            pyplot.show()\n",
    "# Divide una secuencia multivariada en muestras\n",
    "def split_sequences(sequences, n_steps):\n",
    "    X, y = list(), list()\n",
    "    for i in range(len(sequences)):\n",
    "        end_ix = i + n_steps\n",
    "        if end_ix > len(sequences):\n",
    "            break\n",
    "        seq_x, seq_y = sequences[i:end_ix, :-1], sequences[end_ix-1, -1]\n",
    "        X.append(seq_x)\n",
    "        y.append(seq_y)\n",
    "    return array(X), array(y)\n",
    "\n",
    "def reemovNestings(valoresPredecir,listoflist): \n",
    "    for i in listoflist: \n",
    "        if type(i) == list: \n",
    "            reemovNestings(i) \n",
    "        else: \n",
    "            valoresPredecir.append(i) \n",
    "    return valoresPredecir"
   ]
  },
  {
   "cell_type": "code",
   "execution_count": 23,
   "metadata": {},
   "outputs": [],
   "source": [
    "dataset1 = read_csv('aucorpTrain.csv', header=0, index_col=0)\n",
    "#print(dataset1)\n",
    "dato1=dataset1.iloc[:,2]\n",
    "values1 = dato1.values\n",
    "val1=values1.tolist()\n",
    "valores1 = [] \n",
    "listVal1=reemovNestings(valores1,val1) \n",
    "#print ('The list after removing nesting: ', listVal1) \n",
    "\n",
    "dato2=dataset1.iloc[:,3]\n",
    "values2 = dato2.values\n",
    "val2=values2.tolist()\n",
    "valores2 = [] \n",
    "listVal2=reemovNestings(valores2,val2) \n",
    "#print ('The list after removing nesting: ', listVal2) \n",
    "\n",
    "dato3=dataset1.iloc[:,4]\n",
    "values3 = dato3.values\n",
    "val3=values3.tolist()\n",
    "valores3 = [] \n",
    "listVal3=reemovNestings(valores3,val3) \n",
    "#print ('The list after removing nesting: ', listVal3) \n",
    "\n",
    "dato4=dataset1.iloc[:,5]\n",
    "values4 = dato4.values\n",
    "val4=values4.tolist()\n",
    "valores4 = [] \n",
    "listVal4=reemovNestings(valores4,val4) \n",
    "#print ('The list after removing nesting: ', listVal4) \n",
    "\n",
    "dato5=dataset1.iloc[:,6]\n",
    "values5 = dato5.values\n",
    "val5=values5.tolist()\n",
    "valores5 = [] \n",
    "listVal5=reemovNestings(valores5,val5) \n",
    "#print ('The list after removing nesting: ', listVal5) \n",
    "\n",
    "dato6=dataset1.iloc[:,7]\n",
    "values6 = dato6.values\n",
    "val6=values6.tolist()\n",
    "valores6 = [] \n",
    "listVal6=reemovNestings(valores6,val6) \n",
    "#print ('The list after removing nesting: ', listVal6) \n",
    "\n",
    "dato7=dataset1.iloc[:,8]\n",
    "values7 = dato7.values\n",
    "val7=values7.tolist()\n",
    "valores7 = [] \n",
    "listVal7=reemovNestings(valores7,val7) \n",
    "#print ('The list after removing nesting: ', listVal7) \n",
    "\n",
    "dato8=dataset1.iloc[:,9]\n",
    "values8 = dato8.values\n",
    "val8=values8.tolist()\n",
    "valores8 = [] \n",
    "listVal8=reemovNestings(valores8,val8) \n",
    "#print ('The list after removing nesting: ', listVal8) \n",
    "\n",
    "dato9=dataset1.iloc[:,10]\n",
    "values9 = dato9.values\n",
    "val9=values9.tolist()\n",
    "valores9 = [] \n",
    "listVal9=reemovNestings(valores9,val9) \n",
    "#print ('The list after removing nesting: ', listVal9) \n",
    "\n",
    "dato10=dataset1.iloc[:,11]\n",
    "values10 = dato10.values\n",
    "val10=values10.tolist()\n",
    "valores10 = [] \n",
    "listVal10=reemovNestings(valores10,val10) \n",
    "#print ('The list after removing nesting: ', listVal10) \n",
    "\n",
    "dato11=dataset1.iloc[:,12]\n",
    "values11 = dato11.values\n",
    "val11=values11.tolist()\n",
    "valores11 = [] \n",
    "listVal11=reemovNestings(valores11,val11) \n",
    "#print ('The list after removing nesting: ', listVal11) \n",
    "\n",
    "dato12=dataset1.iloc[:,13]\n",
    "values12 = dato12.values\n",
    "val12=values12.tolist()\n",
    "valores12 = [] \n",
    "listVal12=reemovNestings(valores12,val12) \n",
    "#print ('The list after removing nesting: ', listVal12) \n",
    "\n",
    "datoSalida=dataset1.iloc[:,1]\n",
    "valuesSalida = datoSalida.values\n",
    "valSalida=valuesSalida.tolist()\n",
    "valoresSalida = [] \n",
    "salida=reemovNestings(valoresSalida,valSalida) \n",
    "#print ('The list after removing nesting: ', salida) \n"
   ]
  },
  {
   "cell_type": "code",
   "execution_count": 24,
   "metadata": {},
   "outputs": [],
   "source": [
    "in_seq1 = array(listVal12)\n",
    "in_seq2 = array(listVal2)\n",
    "in_seq3 = array(listVal3)\n",
    "in_seq4 = array(listVal4)\n",
    "in_seq5 = array(listVal5)\n",
    "in_seq6 = array(listVal6)\n",
    "in_seq7 = array(listVal7)\n",
    "in_seq8 = array(listVal8)\n",
    "in_seq9 = array(listVal9)\n",
    "in_seq10 = array(listVal10)\n",
    "in_seq11 = array(listVal11)\n",
    "in_seq12 = array(listVal12)\n",
    "out_seq = array(salida)\n",
    "\n",
    "in_seq1 = in_seq1.reshape((len(in_seq1), 1))\n",
    "in_seq2 = in_seq2.reshape((len(in_seq2), 1))\n",
    "in_seq3 = in_seq3.reshape((len(in_seq3), 1))\n",
    "in_seq4 = in_seq4.reshape((len(in_seq4), 1))\n",
    "in_seq5 = in_seq5.reshape((len(in_seq5), 1))\n",
    "in_seq6 = in_seq6.reshape((len(in_seq6), 1))\n",
    "in_seq7 = in_seq7.reshape((len(in_seq7), 1))\n",
    "in_seq8 = in_seq8.reshape((len(in_seq8), 1))\n",
    "in_seq9 = in_seq9.reshape((len(in_seq9), 1))\n",
    "in_seq10 = in_seq10.reshape((len(in_seq10), 1))\n",
    "in_seq11 = in_seq11.reshape((len(in_seq11), 1))\n",
    "in_seq12 = in_seq12.reshape((len(in_seq12), 1))\n",
    "out_seq = out_seq.reshape((len(out_seq), 1))\n",
    "\n",
    "dataset = hstack((in_seq1, in_seq2,in_seq3,in_seq4,in_seq5, in_seq6,in_seq7,in_seq8,in_seq9, in_seq10,in_seq11,in_seq12, out_seq))\n",
    "n_steps = 3\n",
    "X, y = split_sequences(dataset, n_steps)"
   ]
  },
  {
   "cell_type": "code",
   "execution_count": 25,
   "metadata": {},
   "outputs": [],
   "source": [
    "X1 = X[:, :, 0]\n",
    "X2 = X[:, :, 1]\n",
    "X3 = X[:, :, 2]\n",
    "X4 = X[:, :, 3]\n",
    "X5 = X[:, :, 4]\n",
    "X6 = X[:, :, 5]\n",
    "X7 = X[:, :, 6]\n",
    "X8 = X[:, :, 7]\n",
    "X9 = X[:, :, 8]\n",
    "X10 = X[:, :, 9]\n",
    "X11 = X[:, :, 10]\n",
    "X12 = X[:, :, 11]\n",
    "\n",
    "visible1 = Input(shape=(n_steps,))\n",
    "dense1 = Dense(100, activation='relu')(visible1)\n",
    "\n",
    "visible2 = Input(shape=(n_steps,))\n",
    "dense2 = Dense(100, activation='relu')(visible2)\n",
    "\n",
    "visible3 = Input(shape=(n_steps,))\n",
    "dense3 = Dense(100, activation='relu')(visible3)\n",
    "\n",
    "visible4 = Input(shape=(n_steps,))\n",
    "dense4 = Dense(100, activation='relu')(visible4)\n",
    "\n",
    "visible5 = Input(shape=(n_steps,))\n",
    "dense5 = Dense(100, activation='relu')(visible5)\n",
    "\n",
    "visible6 = Input(shape=(n_steps,))\n",
    "dense6 = Dense(100, activation='relu')(visible6)\n",
    "\n",
    "visible7 = Input(shape=(n_steps,))\n",
    "dense7 = Dense(100, activation='relu')(visible7)\n",
    "\n",
    "visible8 = Input(shape=(n_steps,))\n",
    "dense8 = Dense(100, activation='relu')(visible8)\n",
    "\n",
    "visible9 = Input(shape=(n_steps,))\n",
    "dense9 = Dense(100, activation='relu')(visible9)\n",
    "\n",
    "visible10 = Input(shape=(n_steps,))\n",
    "dense10 = Dense(100, activation='relu')(visible10)\n",
    "\n",
    "visible11 = Input(shape=(n_steps,))\n",
    "dense11 = Dense(100, activation='relu')(visible11)\n",
    "\n",
    "visible12 = Input(shape=(n_steps,))\n",
    "dense12 = Dense(100, activation='relu')(visible12)"
   ]
  },
  {
   "cell_type": "code",
   "execution_count": 26,
   "metadata": {},
   "outputs": [],
   "source": [
    "# merge input models\n",
    "merge = concatenate([dense1, dense2,dense3, dense4,dense5, dense6,dense7, dense8,dense9, dense10,dense11, dense12])\n",
    "\n",
    "output = Dense(1)(merge)\n",
    "model = Model(inputs=[visible1, visible2,visible3, visible4,visible5, visible6,visible7, visible8,visible9, visible10,visible11, visible12], outputs=output)\n"
   ]
  },
  {
   "cell_type": "code",
   "execution_count": 27,
   "metadata": {},
   "outputs": [
    {
     "name": "stderr",
     "output_type": "stream",
     "text": [
      "C:\\Users\\Usuario\\Anaconda3\\envs\\prediccionventas\\lib\\site-packages\\ipykernel_launcher.py:3: UserWarning: The `nb_epoch` argument in `fit` has been renamed `epochs`.\n",
      "  This is separate from the ipykernel package so we can avoid doing imports until\n"
     ]
    },
    {
     "name": "stdout",
     "output_type": "stream",
     "text": [
      "Model: \"model_6\"\n",
      "__________________________________________________________________________________________________\n",
      "Layer (type)                    Output Shape         Param #     Connected to                     \n",
      "==================================================================================================\n",
      "input_31 (InputLayer)           (None, 3)            0                                            \n",
      "__________________________________________________________________________________________________\n",
      "input_32 (InputLayer)           (None, 3)            0                                            \n",
      "__________________________________________________________________________________________________\n",
      "input_33 (InputLayer)           (None, 3)            0                                            \n",
      "__________________________________________________________________________________________________\n",
      "input_34 (InputLayer)           (None, 3)            0                                            \n",
      "__________________________________________________________________________________________________\n",
      "input_35 (InputLayer)           (None, 3)            0                                            \n",
      "__________________________________________________________________________________________________\n",
      "input_36 (InputLayer)           (None, 3)            0                                            \n",
      "__________________________________________________________________________________________________\n",
      "input_37 (InputLayer)           (None, 3)            0                                            \n",
      "__________________________________________________________________________________________________\n",
      "input_38 (InputLayer)           (None, 3)            0                                            \n",
      "__________________________________________________________________________________________________\n",
      "input_39 (InputLayer)           (None, 3)            0                                            \n",
      "__________________________________________________________________________________________________\n",
      "input_40 (InputLayer)           (None, 3)            0                                            \n",
      "__________________________________________________________________________________________________\n",
      "input_41 (InputLayer)           (None, 3)            0                                            \n",
      "__________________________________________________________________________________________________\n",
      "input_42 (InputLayer)           (None, 3)            0                                            \n",
      "__________________________________________________________________________________________________\n",
      "dense_36 (Dense)                (None, 100)          400         input_31[0][0]                   \n",
      "__________________________________________________________________________________________________\n",
      "dense_37 (Dense)                (None, 100)          400         input_32[0][0]                   \n",
      "__________________________________________________________________________________________________\n",
      "dense_38 (Dense)                (None, 100)          400         input_33[0][0]                   \n",
      "__________________________________________________________________________________________________\n",
      "dense_39 (Dense)                (None, 100)          400         input_34[0][0]                   \n",
      "__________________________________________________________________________________________________\n",
      "dense_40 (Dense)                (None, 100)          400         input_35[0][0]                   \n",
      "__________________________________________________________________________________________________\n",
      "dense_41 (Dense)                (None, 100)          400         input_36[0][0]                   \n",
      "__________________________________________________________________________________________________\n",
      "dense_42 (Dense)                (None, 100)          400         input_37[0][0]                   \n",
      "__________________________________________________________________________________________________\n",
      "dense_43 (Dense)                (None, 100)          400         input_38[0][0]                   \n",
      "__________________________________________________________________________________________________\n",
      "dense_44 (Dense)                (None, 100)          400         input_39[0][0]                   \n",
      "__________________________________________________________________________________________________\n",
      "dense_45 (Dense)                (None, 100)          400         input_40[0][0]                   \n",
      "__________________________________________________________________________________________________\n",
      "dense_46 (Dense)                (None, 100)          400         input_41[0][0]                   \n",
      "__________________________________________________________________________________________________\n",
      "dense_47 (Dense)                (None, 100)          400         input_42[0][0]                   \n",
      "__________________________________________________________________________________________________\n",
      "concatenate_6 (Concatenate)     (None, 1200)         0           dense_36[0][0]                   \n",
      "                                                                 dense_37[0][0]                   \n",
      "                                                                 dense_38[0][0]                   \n",
      "                                                                 dense_39[0][0]                   \n",
      "                                                                 dense_40[0][0]                   \n",
      "                                                                 dense_41[0][0]                   \n",
      "                                                                 dense_42[0][0]                   \n",
      "                                                                 dense_43[0][0]                   \n",
      "                                                                 dense_44[0][0]                   \n",
      "                                                                 dense_45[0][0]                   \n",
      "                                                                 dense_46[0][0]                   \n",
      "                                                                 dense_47[0][0]                   \n",
      "__________________________________________________________________________________________________\n",
      "dense_48 (Dense)                (None, 1)            1201        concatenate_6[0][0]              \n",
      "==================================================================================================\n",
      "Total params: 6,001\n",
      "Trainable params: 6,001\n",
      "Non-trainable params: 0\n",
      "__________________________________________________________________________________________________\n"
     ]
    }
   ],
   "source": [
    "model.compile(optimizer='adam', loss='mse', metrics=['accuracy'])\n",
    "# fit model\n",
    "historyC1=model.fit([X1, X2,X3,X4,X5,X6,X7,X8,X9,X10,X11,X12], y, epochs=2000, verbose=0,validation_split=0.33,nb_epoch=200, batch_size=5)\n",
    "model.summary()\n"
   ]
  },
  {
   "cell_type": "code",
   "execution_count": 28,
   "metadata": {},
   "outputs": [
    {
     "name": "stdout",
     "output_type": "stream",
     "text": [
      "Populating the interactive namespace from numpy and matplotlib\n"
     ]
    },
    {
     "name": "stderr",
     "output_type": "stream",
     "text": [
      "C:\\Users\\Usuario\\Anaconda3\\envs\\prediccionventas\\lib\\site-packages\\IPython\\core\\magics\\pylab.py:160: UserWarning: pylab import has clobbered these variables: ['concatenate']\n",
      "`%matplotlib` prevents importing * from pylab and numpy\n",
      "  \"\\n`%matplotlib` prevents importing * from pylab and numpy\"\n"
     ]
    },
    {
     "data": {
      "image/png": "[encoded data removed]",
      "text/plain": [
       "<Figure size 1152x576 with 1 Axes>"
      ]
     },
     "metadata": {
      "needs_background": "light"
     },
     "output_type": "display_data"
    },
    {
     "data": {
      "image/png": "[encoded data removed]",
      "text/plain": [
       "<Figure size 1152x576 with 1 Axes>"
      ]
     },
     "metadata": {
      "needs_background": "light"
     },
     "output_type": "display_data"
    }
   ],
   "source": [
    "%pylab inline\n",
    "graficaUnitaria(16,8,historyC1,'accuracy',True,'c1Acc.png')\n",
    "graficaUnitaria(16,8,historyC1,'loss',True,'c1Loss.png')"
   ]
  },
  {
   "cell_type": "code",
   "execution_count": null,
   "metadata": {},
   "outputs": [],
   "source": []
  },
  {
   "cell_type": "code",
   "execution_count": null,
   "metadata": {},
   "outputs": [],
   "source": []
  },
  {
   "cell_type": "code",
   "execution_count": null,
   "metadata": {},
   "outputs": [],
   "source": []
  },
  {
   "cell_type": "code",
   "execution_count": null,
   "metadata": {},
   "outputs": [],
   "source": []
  },
  {
   "cell_type": "code",
   "execution_count": null,
   "metadata": {},
   "outputs": [],
   "source": []
  },
  {
   "cell_type": "code",
   "execution_count": null,
   "metadata": {},
   "outputs": [],
   "source": []
  }
 ],
 "metadata": {
  "kernelspec": {
   "display_name": "Python 3",
   "language": "python",
   "name": "python3"
  },
  "language_info": {
   "codemirror_mode": {
    "name": "ipython",
    "version": 3
   },
   "file_extension": ".py",
   "mimetype": "text/x-python",
   "name": "python",
   "nbconvert_exporter": "python",
   "pygments_lexer": "ipython3",
   "version": "3.6.9"
  }
 },
 "nbformat": 4,
 "nbformat_minor": 2
}
