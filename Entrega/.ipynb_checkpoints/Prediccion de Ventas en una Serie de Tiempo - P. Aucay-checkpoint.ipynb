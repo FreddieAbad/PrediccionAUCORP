{
 "cells": [
  {
   "cell_type": "markdown",
   "metadata": {},
   "source": [
    "# Prediccion de Ventas en una Serie de Tiempo"
   ]
  },
  {
   "cell_type": "markdown",
   "metadata": {},
   "source": [
    "## Forecasting in Time Series"
   ]
  },
  {
   "cell_type": "markdown",
   "metadata": {},
   "source": [
    "Objetivo: Predecir un año de Ventas dados 6 años de datos, aplicando conceptos de Series de Tiempo y algoritmos de forecasting en Aprendizaje No Supervisado"
   ]
  },
  {
   "cell_type": "markdown",
   "metadata": {},
   "source": [
    "## Pasos:\n",
    "### 1. Obtencion de datos\n",
    "No Aplica, los datos fueron proveidos. \n",
    "### 2. Preparar los datos\n",
    "Los atributos de la data corresponden a un total de 16 atributos, correspondientes a fechas, ventas, y variaciones estadísticas útiles para el fin de este proyecto.\n"
   ]
  },
  {
   "cell_type": "code",
   "execution_count": null,
   "metadata": {},
   "outputs": [],
   "source": []
  },
  {
   "cell_type": "markdown",
   "metadata": {},
   "source": [
    "##### Se debe reducir la dimensionalidad de los datos, evitando atributos innecesarios (aplicacion de PCA)\n",
    "- Separacion de datos segun la Regla de Pareto 80/20.\n",
    "3. Elegir el modelo\n",
    "4. Entrenar nuestra máquina\n",
    "5. Evaluación\n",
    "6. Parameter Tuning (configuración de parámetros)\n",
    "7. Predicción o Inferencia"
   ]
  },
  {
   "cell_type": "code",
   "execution_count": null,
   "metadata": {},
   "outputs": [],
   "source": []
  }
 ],
 "metadata": {
  "kernelspec": {
   "display_name": "Python 3",
   "language": "python",
   "name": "python3"
  },
  "language_info": {
   "codemirror_mode": {
    "name": "ipython",
    "version": 3
   },
   "file_extension": ".py",
   "mimetype": "text/x-python",
   "name": "python",
   "nbconvert_exporter": "python",
   "pygments_lexer": "ipython3",
   "version": "3.6.9"
  }
 },
 "nbformat": 4,
 "nbformat_minor": 2
}
